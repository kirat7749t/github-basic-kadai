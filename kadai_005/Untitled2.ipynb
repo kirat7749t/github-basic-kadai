{
  "nbformat": 4,
  "nbformat_minor": 0,
  "metadata": {
    "colab": {
      "provenance": []
    },
    "kernelspec": {
      "name": "python3",
      "display_name": "Python 3"
    },
    "language_info": {
      "name": "python"
    }
  },
  "cells": [
    {
      "cell_type": "code",
      "execution_count": 1,
      "metadata": {
        "colab": {
          "base_uri": "https://localhost:8080/"
        },
        "id": "ZCiAzZSQI4NM",
        "outputId": "69ef631a-dcdc-4128-e7e4-baa36d3c6565"
      },
      "outputs": [
        {
          "output_type": "stream",
          "name": "stdout",
          "text": [
            "75.0㎠\n"
          ]
        }
      ],
      "source": [
        "number1=10\n",
        "number2=20\n",
        "number3=5\n",
        "\n",
        "print(f\"{(number1+number2)*number3/2}㎠\")"
      ]
    }
  ]
}