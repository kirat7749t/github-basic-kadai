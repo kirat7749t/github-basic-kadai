{
  "nbformat": 4,
  "nbformat_minor": 0,
  "metadata": {
    "colab": {
      "provenance": []
    },
    "kernelspec": {
      "name": "python3",
      "display_name": "Python 3"
    },
    "language_info": {
      "name": "python"
    }
  },
  "cells": [
    {
      "cell_type": "code",
      "execution_count": 2,
      "metadata": {
        "colab": {
          "base_uri": "https://localhost:8080/"
        },
        "id": "ZCiAzZSQI4NM",
        "outputId": "5a6b278f-81cd-4580-ab8e-af62bbcd6629"
      },
      "outputs": [
        {
          "output_type": "stream",
          "name": "stdout",
          "text": [
            "75.0㎠\n",
            "75.0㎠\n"
          ]
        }
      ],
      "source": [
        "number1=10\n",
        "number2=20\n",
        "number3=5\n",
        "\n",
        "print(f\"{(number1+number2)*number3/2}㎠\")\n",
        "print(f\"{(10+20)*5/2}㎠\")"
      ]
    },
    {
      "cell_type": "code",
      "source": [],
      "metadata": {
        "id": "Es1SJ9FSS__s"
      },
      "execution_count": null,
      "outputs": []
    }
  ]
}